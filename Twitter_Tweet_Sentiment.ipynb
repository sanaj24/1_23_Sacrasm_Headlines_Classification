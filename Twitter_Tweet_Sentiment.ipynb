{
  "nbformat": 4,
  "nbformat_minor": 0,
  "metadata": {
    "kernelspec": {
      "display_name": "Python 3",
      "language": "python",
      "name": "python3"
    },
    "language_info": {
      "codemirror_mode": {
        "name": "ipython",
        "version": 3
      },
      "file_extension": ".py",
      "mimetype": "text/x-python",
      "name": "python",
      "nbconvert_exporter": "python",
      "pygments_lexer": "ipython3",
      "version": "3.6.6"
    },
    "colab": {
      "provenance": [],
      "include_colab_link": true
    }
  },
  "cells": [
    {
      "cell_type": "markdown",
      "metadata": {
        "id": "view-in-github",
        "colab_type": "text"
      },
      "source": [
        "<a href=\"https://colab.research.google.com/github/sjayy820/Sacrasm_Headlines_Classification/blob/Spring-22/Twitter_Tweet_Sentiment.ipynb\" target=\"_parent\"><img src=\"https://colab.research.google.com/assets/colab-badge.svg\" alt=\"Open In Colab\"/></a>"
      ]
    },
    {
      "cell_type": "markdown",
      "source": [
        "Pre-Semester Project- Sana Jayaswal "
      ],
      "metadata": {
        "id": "DZyxISkq0Hgr"
      }
    },
    {
      "cell_type": "code",
      "metadata": {
        "id": "-EQlbdDocQ2W"
      },
      "source": [
        "#after the data set was uploaded into the files tab \n",
        "\n",
        "import io\n",
        "import numpy as np\n",
        "import pandas as pd\n",
        "import re\n",
        "# plotting\n",
        "import seaborn as sns\n",
        "from wordcloud import WordCloud\n",
        "# nltk\n",
        "from nltk.stem import WordNetLemmatizer\n",
        "# sklearn\n",
        "from sklearn.svm import LinearSVC\n",
        "from sklearn.naive_bayes import BernoulliNB\n",
        "from sklearn.linear_model import LogisticRegression\n",
        "from sklearn.model_selection import train_test_split\n",
        "from sklearn.feature_extraction.text import TfidfVectorizer\n",
        "from sklearn.metrics import confusion_matrix, classification_report\n",
        "\n"
      ],
      "execution_count": null,
      "outputs": []
    },
    {
      "cell_type": "code",
      "source": [
        "data = pd.read_csv(\"data.csv\")"
      ],
      "metadata": {
        "id": "CWRIa_SGrImK"
      },
      "execution_count": null,
      "outputs": []
    },
    {
      "cell_type": "code",
      "metadata": {
        "collapsed": true,
        "id": "SZLExkyEcQ2d",
        "colab": {
          "base_uri": "https://localhost:8080/"
        },
        "outputId": "42e0c037-202d-4213-f2c7-d196b0ec2b75"
      },
      "source": [
        "!pip install keras"
      ],
      "execution_count": null,
      "outputs": [
        {
          "output_type": "stream",
          "name": "stdout",
          "text": [
            "Requirement already satisfied: keras in /usr/local/lib/python3.7/dist-packages (2.7.0)\n"
          ]
        }
      ]
    },
    {
      "cell_type": "code",
      "metadata": {
        "id": "I-MX6BRecQ2n",
        "colab": {
          "base_uri": "https://localhost:8080/",
          "height": 276
        },
        "outputId": "1cc9154f-17e4-498a-c47e-b0a7f666f67a"
      },
      "source": [
        "### building data intution \n",
        "print('length of data is', len(data))\n",
        "print('Count of columns in the data is:  ', len(data.columns))\n",
        "print('Count of rows in the data is:  ', len(data))\n",
        "\n",
        "# how many unique values are there in valence?\n",
        "print(data['valence'].unique())\n",
        "data['valence'].nunique()\n",
        "\n",
        "#working with only relevant parts of data\n",
        "data = data.drop('author', 1)\n",
        "#data=data[['valence','tweet']]\n",
        "data.tail(5) #checking if above worked \n"
      ],
      "execution_count": null,
      "outputs": [
        {
          "output_type": "stream",
          "name": "stdout",
          "text": [
            "length of data is 1600000\n",
            "Count of columns in the data is:   3\n",
            "Count of rows in the data is:   1600000\n",
            "[0 4]\n"
          ]
        },
        {
          "output_type": "execute_result",
          "data": {
            "text/html": [
              "\n",
              "  <div id=\"df-fc57e042-6980-435d-92b0-4050e421b478\">\n",
              "    <div class=\"colab-df-container\">\n",
              "      <div>\n",
              "<style scoped>\n",
              "    .dataframe tbody tr th:only-of-type {\n",
              "        vertical-align: middle;\n",
              "    }\n",
              "\n",
              "    .dataframe tbody tr th {\n",
              "        vertical-align: top;\n",
              "    }\n",
              "\n",
              "    .dataframe thead th {\n",
              "        text-align: right;\n",
              "    }\n",
              "</style>\n",
              "<table border=\"1\" class=\"dataframe\">\n",
              "  <thead>\n",
              "    <tr style=\"text-align: right;\">\n",
              "      <th></th>\n",
              "      <th>valence</th>\n",
              "      <th>tweet</th>\n",
              "    </tr>\n",
              "  </thead>\n",
              "  <tbody>\n",
              "    <tr>\n",
              "      <th>1599995</th>\n",
              "      <td>4</td>\n",
              "      <td>Just woke up. Having no school is the best fee...</td>\n",
              "    </tr>\n",
              "    <tr>\n",
              "      <th>1599996</th>\n",
              "      <td>4</td>\n",
              "      <td>TheWDB.com - Very cool to hear old Walt interv...</td>\n",
              "    </tr>\n",
              "    <tr>\n",
              "      <th>1599997</th>\n",
              "      <td>4</td>\n",
              "      <td>Are you ready for your MoJo Makeover? Ask me f...</td>\n",
              "    </tr>\n",
              "    <tr>\n",
              "      <th>1599998</th>\n",
              "      <td>4</td>\n",
              "      <td>Happy 38th Birthday to my boo of alll time!!! ...</td>\n",
              "    </tr>\n",
              "    <tr>\n",
              "      <th>1599999</th>\n",
              "      <td>4</td>\n",
              "      <td>happy #charitytuesday @theNSPCC @SparksCharity...</td>\n",
              "    </tr>\n",
              "  </tbody>\n",
              "</table>\n",
              "</div>\n",
              "      <button class=\"colab-df-convert\" onclick=\"convertToInteractive('df-fc57e042-6980-435d-92b0-4050e421b478')\"\n",
              "              title=\"Convert this dataframe to an interactive table.\"\n",
              "              style=\"display:none;\">\n",
              "        \n",
              "  <svg xmlns=\"http://www.w3.org/2000/svg\" height=\"24px\"viewBox=\"0 0 24 24\"\n",
              "       width=\"24px\">\n",
              "    <path d=\"M0 0h24v24H0V0z\" fill=\"none\"/>\n",
              "    <path d=\"M18.56 5.44l.94 2.06.94-2.06 2.06-.94-2.06-.94-.94-2.06-.94 2.06-2.06.94zm-11 1L8.5 8.5l.94-2.06 2.06-.94-2.06-.94L8.5 2.5l-.94 2.06-2.06.94zm10 10l.94 2.06.94-2.06 2.06-.94-2.06-.94-.94-2.06-.94 2.06-2.06.94z\"/><path d=\"M17.41 7.96l-1.37-1.37c-.4-.4-.92-.59-1.43-.59-.52 0-1.04.2-1.43.59L10.3 9.45l-7.72 7.72c-.78.78-.78 2.05 0 2.83L4 21.41c.39.39.9.59 1.41.59.51 0 1.02-.2 1.41-.59l7.78-7.78 2.81-2.81c.8-.78.8-2.07 0-2.86zM5.41 20L4 18.59l7.72-7.72 1.47 1.35L5.41 20z\"/>\n",
              "  </svg>\n",
              "      </button>\n",
              "      \n",
              "  <style>\n",
              "    .colab-df-container {\n",
              "      display:flex;\n",
              "      flex-wrap:wrap;\n",
              "      gap: 12px;\n",
              "    }\n",
              "\n",
              "    .colab-df-convert {\n",
              "      background-color: #E8F0FE;\n",
              "      border: none;\n",
              "      border-radius: 50%;\n",
              "      cursor: pointer;\n",
              "      display: none;\n",
              "      fill: #1967D2;\n",
              "      height: 32px;\n",
              "      padding: 0 0 0 0;\n",
              "      width: 32px;\n",
              "    }\n",
              "\n",
              "    .colab-df-convert:hover {\n",
              "      background-color: #E2EBFA;\n",
              "      box-shadow: 0px 1px 2px rgba(60, 64, 67, 0.3), 0px 1px 3px 1px rgba(60, 64, 67, 0.15);\n",
              "      fill: #174EA6;\n",
              "    }\n",
              "\n",
              "    [theme=dark] .colab-df-convert {\n",
              "      background-color: #3B4455;\n",
              "      fill: #D2E3FC;\n",
              "    }\n",
              "\n",
              "    [theme=dark] .colab-df-convert:hover {\n",
              "      background-color: #434B5C;\n",
              "      box-shadow: 0px 1px 3px 1px rgba(0, 0, 0, 0.15);\n",
              "      filter: drop-shadow(0px 1px 2px rgba(0, 0, 0, 0.3));\n",
              "      fill: #FFFFFF;\n",
              "    }\n",
              "  </style>\n",
              "\n",
              "      <script>\n",
              "        const buttonEl =\n",
              "          document.querySelector('#df-fc57e042-6980-435d-92b0-4050e421b478 button.colab-df-convert');\n",
              "        buttonEl.style.display =\n",
              "          google.colab.kernel.accessAllowed ? 'block' : 'none';\n",
              "\n",
              "        async function convertToInteractive(key) {\n",
              "          const element = document.querySelector('#df-fc57e042-6980-435d-92b0-4050e421b478');\n",
              "          const dataTable =\n",
              "            await google.colab.kernel.invokeFunction('convertToInteractive',\n",
              "                                                     [key], {});\n",
              "          if (!dataTable) return;\n",
              "\n",
              "          const docLinkHtml = 'Like what you see? Visit the ' +\n",
              "            '<a target=\"_blank\" href=https://colab.research.google.com/notebooks/data_table.ipynb>data table notebook</a>'\n",
              "            + ' to learn more about interactive tables.';\n",
              "          element.innerHTML = '';\n",
              "          dataTable['output_type'] = 'display_data';\n",
              "          await google.colab.output.renderOutput(dataTable, element);\n",
              "          const docLink = document.createElement('div');\n",
              "          docLink.innerHTML = docLinkHtml;\n",
              "          element.appendChild(docLink);\n",
              "        }\n",
              "      </script>\n",
              "    </div>\n",
              "  </div>\n",
              "  "
            ],
            "text/plain": [
              "         valence                                              tweet\n",
              "1599995        4  Just woke up. Having no school is the best fee...\n",
              "1599996        4  TheWDB.com - Very cool to hear old Walt interv...\n",
              "1599997        4  Are you ready for your MoJo Makeover? Ask me f...\n",
              "1599998        4  Happy 38th Birthday to my boo of alll time!!! ...\n",
              "1599999        4  happy #charitytuesday @theNSPCC @SparksCharity..."
            ]
          },
          "metadata": {},
          "execution_count": 82
        }
      ]
    },
    {
      "cell_type": "code",
      "source": [
        "data_pos = data[data['valence'] == 4]\n",
        "data_neg = data[data['valence'] == 0]\n",
        "\n",
        "data_pos = data_pos.iloc[:int(20000)]\n",
        "data_neg = data_neg.iloc[:int(20000)]\n",
        "data= pd.concat([data_pos, data_neg])\n",
        "data['tweet']=data['tweet'].str.lower()\n",
        "data ['tweet'].head()"
      ],
      "metadata": {
        "colab": {
          "base_uri": "https://localhost:8080/"
        },
        "id": "YcfoXZAa3xHo",
        "outputId": "60783ef9-1112-4297-9a94-e46bc58a051a"
      },
      "execution_count": null,
      "outputs": [
        {
          "output_type": "execute_result",
          "data": {
            "text/plain": [
              "800000         i love @health4uandpets u guys r the best!! \n",
              "800001    im meeting up with one of my besties tonight! ...\n",
              "800002    @darealsunisakim thanks for the twitter add, s...\n",
              "800003    being sick can be really cheap when it hurts t...\n",
              "800004      @lovesbrooklyn2 he has that effect on everyone \n",
              "Name: tweet, dtype: object"
            ]
          },
          "metadata": {},
          "execution_count": 83
        }
      ]
    },
    {
      "cell_type": "code",
      "source": [
        "label_to_sentiment = {0:\"Negative\", 4:\"Positive\"}\n",
        "def mapper(label):\n",
        "     return label_to_sentiment[label]\n",
        "data.valence = data.valence.apply(lambda x: mapper(x))"
      ],
      "metadata": {
        "id": "31zCAKOYmuz0"
      },
      "execution_count": null,
      "outputs": []
    },
    {
      "cell_type": "code",
      "source": [
        "stopwords = ['a', 'about','like', 'above', 'after', 'again', 'ain', 'all', 'am', 'an',\n",
        "             'and','any','are', 'as', 'at', 'be', 'because', 'been', 'before',\n",
        "             'being', 'below', 'between','both', 'by', 'can',\"can't\", 'd', 'did', 'do',\n",
        "             'does', 'doing', 'down', 'during', 'each','few', 'for', 'from',\n",
        "             'further', 'had', 'has', 'have', 'having', 'he', 'her', 'here',\n",
        "             'hers', 'herself', 'him', 'himself', 'his', 'how', 'i','im', 'if', 'in',\n",
        "             'into','is', 'it', 'its',\"it's\",\"i'm\",  'itself', 'just', 'll', 'm', 'ma',\n",
        "             'me', 'more', 'most','my', 'myself', 'now', 'o', 'of', 'on', 'once',\n",
        "             'only', 'or', 'other', 'our', 'ours','ourselves', 'out', 'own', 're','s', 'same', 'she', \"she's\", 'should', \"should've\",'so', 'some', 'such',\n",
        "             't', 'than', 'that', \"that'll\",\"that's\", 'the', 'their', 'theirs', 'them',\n",
        "             'themselves', 'then', 'there', 'these', 'they', 'this', 'those',\n",
        "             'through', 'to', 'too','under', 'until', 'up', 've', 'very', 'was',\n",
        "             'we', 'were', 'what', 'when', 'where','which','while', 'who', 'whom',\n",
        "             'why', 'will', 'with', 'won', 'y', 'you', \"you'd\",\"you'll\", \"you're\",\n",
        "             \"you've\", 'your', 'yours', 'yourself', 'yourselves']"
      ],
      "metadata": {
        "id": "VjPEbuE4aUad"
      },
      "execution_count": null,
      "outputs": []
    },
    {
      "cell_type": "code",
      "source": [
        "data['tweet']= data['tweet'].str.lower()\n",
        "def clean_symbols(data):\n",
        "    data= re.sub('https?://[A-Za-z0-9./]+',' ',data)\n",
        "    data= re.sub('@[A-Za-z0-9]+',' ', data)\n",
        "    data= re.sub('#[A-za-z0-9]',' ', data) # remove #s\n",
        "    data = re.sub('[()!%.;,?]', ' ', data)\n",
        "    data = re.sub('[0-9]',' ', data)\n",
        "    data = data.split()\n",
        "    data = [w for w in data if not w in stopwords]\n",
        "    data = \" \".join(word for word in data)\n",
        "    return data\n",
        "data['tweet'] = data['tweet'].apply(lambda x: clean_symbols(x))\n",
        "\n",
        "\n"
      ],
      "metadata": {
        "id": "yje1whDcP7-e"
      },
      "execution_count": null,
      "outputs": []
    },
    {
      "cell_type": "code",
      "source": [
        "data.head()"
      ],
      "metadata": {
        "colab": {
          "base_uri": "https://localhost:8080/",
          "height": 206
        },
        "id": "00JzVtk_mwao",
        "outputId": "824a5809-ee7c-458d-c32c-2b1bd5fc00c8"
      },
      "execution_count": null,
      "outputs": [
        {
          "output_type": "execute_result",
          "data": {
            "text/html": [
              "\n",
              "  <div id=\"df-45c34ccc-671c-4f07-8d5c-31d6d318b663\">\n",
              "    <div class=\"colab-df-container\">\n",
              "      <div>\n",
              "<style scoped>\n",
              "    .dataframe tbody tr th:only-of-type {\n",
              "        vertical-align: middle;\n",
              "    }\n",
              "\n",
              "    .dataframe tbody tr th {\n",
              "        vertical-align: top;\n",
              "    }\n",
              "\n",
              "    .dataframe thead th {\n",
              "        text-align: right;\n",
              "    }\n",
              "</style>\n",
              "<table border=\"1\" class=\"dataframe\">\n",
              "  <thead>\n",
              "    <tr style=\"text-align: right;\">\n",
              "      <th></th>\n",
              "      <th>valence</th>\n",
              "      <th>tweet</th>\n",
              "    </tr>\n",
              "  </thead>\n",
              "  <tbody>\n",
              "    <tr>\n",
              "      <th>800000</th>\n",
              "      <td>Positive</td>\n",
              "      <td>love u guys r best</td>\n",
              "    </tr>\n",
              "    <tr>\n",
              "      <th>800001</th>\n",
              "      <td>Positive</td>\n",
              "      <td>meeting one besties tonight cant wait - girl talk</td>\n",
              "    </tr>\n",
              "    <tr>\n",
              "      <th>800002</th>\n",
              "      <td>Positive</td>\n",
              "      <td>thanks twitter add sunisa got meet hin show dc...</td>\n",
              "    </tr>\n",
              "    <tr>\n",
              "      <th>800003</th>\n",
              "      <td>Positive</td>\n",
              "      <td>sick really cheap hurts much eat real food plu...</td>\n",
              "    </tr>\n",
              "    <tr>\n",
              "      <th>800004</th>\n",
              "      <td>Positive</td>\n",
              "      <td>effect everyone</td>\n",
              "    </tr>\n",
              "  </tbody>\n",
              "</table>\n",
              "</div>\n",
              "      <button class=\"colab-df-convert\" onclick=\"convertToInteractive('df-45c34ccc-671c-4f07-8d5c-31d6d318b663')\"\n",
              "              title=\"Convert this dataframe to an interactive table.\"\n",
              "              style=\"display:none;\">\n",
              "        \n",
              "  <svg xmlns=\"http://www.w3.org/2000/svg\" height=\"24px\"viewBox=\"0 0 24 24\"\n",
              "       width=\"24px\">\n",
              "    <path d=\"M0 0h24v24H0V0z\" fill=\"none\"/>\n",
              "    <path d=\"M18.56 5.44l.94 2.06.94-2.06 2.06-.94-2.06-.94-.94-2.06-.94 2.06-2.06.94zm-11 1L8.5 8.5l.94-2.06 2.06-.94-2.06-.94L8.5 2.5l-.94 2.06-2.06.94zm10 10l.94 2.06.94-2.06 2.06-.94-2.06-.94-.94-2.06-.94 2.06-2.06.94z\"/><path d=\"M17.41 7.96l-1.37-1.37c-.4-.4-.92-.59-1.43-.59-.52 0-1.04.2-1.43.59L10.3 9.45l-7.72 7.72c-.78.78-.78 2.05 0 2.83L4 21.41c.39.39.9.59 1.41.59.51 0 1.02-.2 1.41-.59l7.78-7.78 2.81-2.81c.8-.78.8-2.07 0-2.86zM5.41 20L4 18.59l7.72-7.72 1.47 1.35L5.41 20z\"/>\n",
              "  </svg>\n",
              "      </button>\n",
              "      \n",
              "  <style>\n",
              "    .colab-df-container {\n",
              "      display:flex;\n",
              "      flex-wrap:wrap;\n",
              "      gap: 12px;\n",
              "    }\n",
              "\n",
              "    .colab-df-convert {\n",
              "      background-color: #E8F0FE;\n",
              "      border: none;\n",
              "      border-radius: 50%;\n",
              "      cursor: pointer;\n",
              "      display: none;\n",
              "      fill: #1967D2;\n",
              "      height: 32px;\n",
              "      padding: 0 0 0 0;\n",
              "      width: 32px;\n",
              "    }\n",
              "\n",
              "    .colab-df-convert:hover {\n",
              "      background-color: #E2EBFA;\n",
              "      box-shadow: 0px 1px 2px rgba(60, 64, 67, 0.3), 0px 1px 3px 1px rgba(60, 64, 67, 0.15);\n",
              "      fill: #174EA6;\n",
              "    }\n",
              "\n",
              "    [theme=dark] .colab-df-convert {\n",
              "      background-color: #3B4455;\n",
              "      fill: #D2E3FC;\n",
              "    }\n",
              "\n",
              "    [theme=dark] .colab-df-convert:hover {\n",
              "      background-color: #434B5C;\n",
              "      box-shadow: 0px 1px 3px 1px rgba(0, 0, 0, 0.15);\n",
              "      filter: drop-shadow(0px 1px 2px rgba(0, 0, 0, 0.3));\n",
              "      fill: #FFFFFF;\n",
              "    }\n",
              "  </style>\n",
              "\n",
              "      <script>\n",
              "        const buttonEl =\n",
              "          document.querySelector('#df-45c34ccc-671c-4f07-8d5c-31d6d318b663 button.colab-df-convert');\n",
              "        buttonEl.style.display =\n",
              "          google.colab.kernel.accessAllowed ? 'block' : 'none';\n",
              "\n",
              "        async function convertToInteractive(key) {\n",
              "          const element = document.querySelector('#df-45c34ccc-671c-4f07-8d5c-31d6d318b663');\n",
              "          const dataTable =\n",
              "            await google.colab.kernel.invokeFunction('convertToInteractive',\n",
              "                                                     [key], {});\n",
              "          if (!dataTable) return;\n",
              "\n",
              "          const docLinkHtml = 'Like what you see? Visit the ' +\n",
              "            '<a target=\"_blank\" href=https://colab.research.google.com/notebooks/data_table.ipynb>data table notebook</a>'\n",
              "            + ' to learn more about interactive tables.';\n",
              "          element.innerHTML = '';\n",
              "          dataTable['output_type'] = 'display_data';\n",
              "          await google.colab.output.renderOutput(dataTable, element);\n",
              "          const docLink = document.createElement('div');\n",
              "          docLink.innerHTML = docLinkHtml;\n",
              "          element.appendChild(docLink);\n",
              "        }\n",
              "      </script>\n",
              "    </div>\n",
              "  </div>\n",
              "  "
            ],
            "text/plain": [
              "         valence                                              tweet\n",
              "800000  Positive                                 love u guys r best\n",
              "800001  Positive  meeting one besties tonight cant wait - girl talk\n",
              "800002  Positive  thanks twitter add sunisa got meet hin show dc...\n",
              "800003  Positive  sick really cheap hurts much eat real food plu...\n",
              "800004  Positive                                    effect everyone"
            ]
          },
          "metadata": {},
          "execution_count": 114
        }
      ]
    },
    {
      "cell_type": "code",
      "source": [
        "from keras.preprocessing.text import Tokenizer\n",
        "#Tokenizing \n",
        "tokenizer = Tokenizer()\n",
        "tokenizer.fit_on_texts(data.tweet)\n",
        "word_index = tokenizer.word_index\n",
        "print(word_index)\n",
        "vocab_size = len(tokenizer.word_index) + 1\n",
        "print(\"Vocabulary Size :\", vocab_size)\n",
        "\n",
        "#Padding \n",
        "from keras.preprocessing.sequence import pad_sequences\n",
        "X_train = pad_sequences(tokenizer.texts_to_sequences(data.tweet),maxlen = 30)\n",
        "X_test = pad_sequences(tokenizer.texts_to_sequences(data.tweet),maxlen = 30)"
      ],
      "metadata": {
        "id": "2vtyyNkYqJ56"
      },
      "execution_count": null,
      "outputs": []
    },
    {
      "cell_type": "code",
      "source": [
        "labels = ['Negative', 'Positive']\n",
        "from sklearn.preprocessing import LabelEncoder\n",
        "encoder = LabelEncoder()\n",
        "encoder.fit(data.valence.to_list())\n",
        "y_train = encoder.transform(data.valence.to_list())\n",
        "y_test = encoder.transform(data.valence.to_list())\n",
        "y_train = y_train.reshape(-1,1)\n",
        "y_test = y_test.reshape(-1,1)\n"
      ],
      "metadata": {
        "id": "H0xyp4_hqeXZ"
      },
      "execution_count": null,
      "outputs": []
    },
    {
      "cell_type": "code",
      "source": [
        "from tensorflow.keras.layers import Conv1D, Bidirectional, LSTM, Dense, Input, Dropout\n",
        "from tensorflow.keras.layers import SpatialDropout1D\n",
        "from tensorflow.keras.callbacks import ModelCheckpoint\n",
        "\n",
        "model=Sequential()\n",
        "model.add(Embedding(vocab_size,300,input_length=30,trainable=False))\n",
        "# Input layer \n",
        "\n",
        "model.add(Input(shape=(30,), dtype='int32'))\n",
        "\n",
        "# Passed on to the LSTM layer\n",
        "model.add(Bidirectional(LSTM(64, dropout=0.2, recurrent_dropout=0.2)))\n",
        "model.add(Dense(512, activation='relu'))\n",
        "model.add(Dropout(0.5))\n",
        "model.add(Dense(512, activation='relu'))\n",
        "\n",
        "# Output Layer\n",
        "model.add(Dense(1, activation='sigmoid'))\n",
        "\n",
        "\n"
      ],
      "metadata": {
        "id": "LEwfvqqlviFT"
      },
      "execution_count": null,
      "outputs": []
    },
    {
      "cell_type": "code",
      "source": [
        "from tensorflow.keras.optimizers import Adam\n",
        "from tensorflow.keras.callbacks import ReduceLROnPlateau\n",
        "model.compile(optimizer='adam', loss='binary_crossentropy',metrics=['accuracy'])\n",
        "model.summary()"
      ],
      "metadata": {
        "colab": {
          "base_uri": "https://localhost:8080/"
        },
        "id": "tqbQnvXqrGgp",
        "outputId": "664e3bd5-83ec-4e36-be3b-61e7eba78f9b"
      },
      "execution_count": null,
      "outputs": [
        {
          "output_type": "stream",
          "name": "stdout",
          "text": [
            "Model: \"sequential_18\"\n",
            "_________________________________________________________________\n",
            " Layer (type)                Output Shape              Param #   \n",
            "=================================================================\n",
            " embedding_20 (Embedding)    (None, 30, 300)           9440100   \n",
            "                                                                 \n",
            " input_5 (InputLayer)        multiple                  0         \n",
            "                                                                 \n",
            " bidirectional_3 (Bidirectio  (None, 128)              186880    \n",
            " nal)                                                            \n",
            "                                                                 \n",
            " dense_26 (Dense)            (None, 512)               66048     \n",
            "                                                                 \n",
            " dropout_20 (Dropout)        (None, 512)               0         \n",
            "                                                                 \n",
            " dense_27 (Dense)            (None, 512)               262656    \n",
            "                                                                 \n",
            " dense_28 (Dense)            (None, 1)                 513       \n",
            "                                                                 \n",
            "=================================================================\n",
            "Total params: 9,956,197\n",
            "Trainable params: 516,097\n",
            "Non-trainable params: 9,440,100\n",
            "_________________________________________________________________\n"
          ]
        }
      ]
    },
    {
      "cell_type": "code",
      "source": [
        "training = model.fit(X_train, y_train, batch_size=64, epochs=8,\n",
        "                    validation_data=(X_test, y_test))"
      ],
      "metadata": {
        "colab": {
          "base_uri": "https://localhost:8080/"
        },
        "id": "Ho5jxoISrcgO",
        "outputId": "dddb34a9-1c31-4c2d-be45-9823c4bdc822"
      },
      "execution_count": null,
      "outputs": [
        {
          "output_type": "stream",
          "name": "stdout",
          "text": [
            "Epoch 1/8\n",
            "625/625 [==============================] - 83s 132ms/step - loss: 0.6251 - accuracy: 0.6496 - val_loss: 0.5659 - val_accuracy: 0.7121\n",
            "Epoch 2/8\n",
            "625/625 [==============================] - 83s 133ms/step - loss: 0.5762 - accuracy: 0.6960 - val_loss: 0.5100 - val_accuracy: 0.7387\n",
            "Epoch 3/8\n",
            "625/625 [==============================] - 83s 133ms/step - loss: 0.5270 - accuracy: 0.7340 - val_loss: 0.4169 - val_accuracy: 0.8231\n",
            "Epoch 4/8\n",
            "625/625 [==============================] - 84s 135ms/step - loss: 0.4801 - accuracy: 0.7666 - val_loss: 0.3748 - val_accuracy: 0.8475\n",
            "Epoch 5/8\n",
            "625/625 [==============================] - 86s 137ms/step - loss: 0.4408 - accuracy: 0.7919 - val_loss: 0.3154 - val_accuracy: 0.8897\n",
            "Epoch 6/8\n",
            "625/625 [==============================] - 86s 137ms/step - loss: 0.4042 - accuracy: 0.8129 - val_loss: 0.3014 - val_accuracy: 0.8921\n",
            "Epoch 7/8\n",
            "625/625 [==============================] - 86s 138ms/step - loss: 0.3671 - accuracy: 0.8345 - val_loss: 0.2383 - val_accuracy: 0.9216\n",
            "Epoch 8/8\n",
            "625/625 [==============================] - 86s 138ms/step - loss: 0.3473 - accuracy: 0.8432 - val_loss: 0.2032 - val_accuracy: 0.9312\n"
          ]
        }
      ]
    },
    {
      "cell_type": "code",
      "source": [
        "def predict_tweet_valence(score):\n",
        "    return \"Positive\" if score>0.5 else \"Negative\"\n",
        "scores = model.predict(X_test, verbose=1, batch_size=10000)\n",
        "model_predictions = [predict_tweet_valence(score) for score in scores]"
      ],
      "metadata": {
        "colab": {
          "base_uri": "https://localhost:8080/"
        },
        "id": "xWlR58RUugIz",
        "outputId": "8c738aa1-03bb-4a29-a98b-646318907430"
      },
      "execution_count": null,
      "outputs": [
        {
          "output_type": "stream",
          "name": "stdout",
          "text": [
            "4/4 [==============================] - 10s 2s/step\n"
          ]
        }
      ]
    },
    {
      "cell_type": "code",
      "source": [
        "from sklearn.metrics import classification_report\n",
        "print(classification_report(list(data.valence), model_predictions))"
      ],
      "metadata": {
        "colab": {
          "base_uri": "https://localhost:8080/"
        },
        "id": "PJw9UTRkurU5",
        "outputId": "66046932-7f9a-4d21-936e-467e88311c20"
      },
      "execution_count": null,
      "outputs": [
        {
          "output_type": "stream",
          "name": "stdout",
          "text": [
            "              precision    recall  f1-score   support\n",
            "\n",
            "    Negative       0.95      0.91      0.93     20000\n",
            "    Positive       0.92      0.95      0.93     20000\n",
            "\n",
            "    accuracy                           0.93     40000\n",
            "   macro avg       0.93      0.93      0.93     40000\n",
            "weighted avg       0.93      0.93      0.93     40000\n",
            "\n"
          ]
        }
      ]
    }
  ]
}